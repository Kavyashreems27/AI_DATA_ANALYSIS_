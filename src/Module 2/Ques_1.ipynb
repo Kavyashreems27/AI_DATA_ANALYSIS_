# --- Question 1: Importing Pandas and Creating a Sample CSV File ---

import pandas as pd

# Sample dataset
data = {
    'Name': ['Alice', 'Bob', 'Charlie', 'David'],
    'Age': [24, 27, 22, 32],
    'City': ['New York', 'Paris', 'London', 'Tokyo']
}

# Create DataFrame
df_sample = pd.DataFrame(data)

# Save to CSV
csv_file_path = 'sample_data.csv'
df_sample.to_csv(csv_file_path, index=False)
print("Sample CSV file created:", csv_file_path)
print("\n")

# --- Question 2: Loading the CSV File into a DataFrame ---

try:
    df = pd.read_csv(csv_file_path)
    print("CSV file loaded successfully into a Pandas DataFrame.\n")
except FileNotFoundError:
    print(f"Error: The file '{csv_file_path}' was not found.")
    df = None

# --- Question 3: Displaying the First Few Rows of the DataFrame ---

if df is not None:
    print("First five rows of the DataFrame:")
    print(df.head())
    print("\n")

# --- Question 4: Basic Data Information ---

if df is not None:
    print("Concise summary of the DataFrame:")
    df.info()
    print("\n")

# --- Question 5: Descriptive Statistics ---

if df is not None:
    print("Descriptive statistics of the DataFrame:")
    print(df.describe())
    print("\n")

# --- Question 6: Checking for Missing Values ---

if df is not None:
    print("Missing values in each column:")
    print(df.isnull().sum
